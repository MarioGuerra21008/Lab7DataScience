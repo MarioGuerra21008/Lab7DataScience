{
 "cells": [
  {
   "cell_type": "markdown",
   "metadata": {},
   "source": [
    "# Laboratorio 7 - Data Science\n",
    "## Integrantes:\n",
    "### Mario Guerra - 21008\n",
    "### Javier Alvarado - 21188"
   ]
  },
  {
   "cell_type": "markdown",
   "metadata": {},
   "source": [
    "## Carga de archivo a un DataFrame"
   ]
  },
  {
   "cell_type": "code",
   "execution_count": 14,
   "metadata": {},
   "outputs": [
    {
     "name": "stdout",
     "output_type": "stream",
     "text": [
      "                       id               id_str  \\\n",
      "0     1834281080029110288  1834281080029110288   \n",
      "1     1834252464092069901  1834252464092069901   \n",
      "2     1834280919336976681  1834280919336976681   \n",
      "3     1834280512933732694  1834280512933732694   \n",
      "4     1834279986254987428  1834279986254987428   \n",
      "...                   ...                  ...   \n",
      "5014  1832570119563743682  1832570119563743682   \n",
      "5015  1832569640079270018  1832569640079270018   \n",
      "5016  1832569563109896313  1832569563109896313   \n",
      "5017  1832568528508968963  1832568528508968963   \n",
      "5018  1832567980749660272  1832567980749660272   \n",
      "\n",
      "                                                    url  \\\n",
      "0     https://x.com/La_ReVoluZzion/status/1834281080...   \n",
      "1     https://x.com/XelaNewsGt/status/18342524640920...   \n",
      "2     https://x.com/M24095273/status/183428091933697...   \n",
      "3     https://x.com/carlosalbesc/status/183428051293...   \n",
      "4     https://x.com/Brenda_AGN/status/18342799862549...   \n",
      "...                                                 ...   \n",
      "5014  https://x.com/Benjamdc7/status/183257011956374...   \n",
      "5015  https://x.com/lfarivas/status/1832569640079270018   \n",
      "5016  https://x.com/MynorAroldopab1/status/183256956...   \n",
      "5017  https://x.com/extasisvgames/status/18325685285...   \n",
      "5018  https://x.com/Elemasurf/status/183256798074966...   \n",
      "\n",
      "                           date  \\\n",
      "0     2024-09-12 17:21:03+00:00   \n",
      "1     2024-09-12 15:27:20+00:00   \n",
      "2     2024-09-12 17:20:25+00:00   \n",
      "3     2024-09-12 17:18:48+00:00   \n",
      "4     2024-09-12 17:16:42+00:00   \n",
      "...                         ...   \n",
      "5014  2024-09-08 00:02:18+00:00   \n",
      "5015  2024-09-08 00:00:24+00:00   \n",
      "5016  2024-09-08 00:00:05+00:00   \n",
      "5017  2024-09-07 23:55:59+00:00   \n",
      "5018  2024-09-07 23:53:48+00:00   \n",
      "\n",
      "                                                   user lang  \\\n",
      "0     {'id': 1435062946598694914, 'id_str': '1435062...   es   \n",
      "1     {'id': 956650778634145792, 'id_str': '95665077...   es   \n",
      "2     {'id': 1087057038755143680, 'id_str': '1087057...   es   \n",
      "3     {'id': 2881001877, 'id_str': '2881001877', 'ur...   es   \n",
      "4     {'id': 3013862206, 'id_str': '3013862206', 'ur...   es   \n",
      "...                                                 ...  ...   \n",
      "5014  {'id': 1756407688060088320, 'id_str': '1756407...   es   \n",
      "5015  {'id': 266309394, 'id_str': '266309394', 'url'...   es   \n",
      "5016  {'id': 816386114999226368, 'id_str': '81638611...   es   \n",
      "5017  {'id': 725073085, 'id_str': '725073085', 'url'...   es   \n",
      "5018  {'id': 137470585, 'id_str': '137470585', 'url'...   es   \n",
      "\n",
      "                                             rawContent  replyCount  \\\n",
      "0     _\\nConfirmado Compañeres,\\n\\nEl impuesto por l...           0   \n",
      "1     #URGENTE Lo que los medios #faferos no informa...          12   \n",
      "2     @IvanDuque @BArevalodeLeon Con que usaste PEGA...           0   \n",
      "3     @IvanDuque @BArevalodeLeon Entre Ellos se enti...           0   \n",
      "4     El presidente @BArevalodeLeon y la vicepreside...           0   \n",
      "...                                                 ...         ...   \n",
      "5014  @marvgcaceres @diaco_gt @GuatemalaGob @vinicio...           0   \n",
      "5015  @Soygeorgegt Lastima @BArevalodeLeon la gente ...           0   \n",
      "5016  Alguien sabe si este precio es culpa de @BArev...           0   \n",
      "5017  @guate_opina @BArevalodeLeon Y los diputados p...           0   \n",
      "5018  @ElQueNews @BArevalodeLeon @lucreciapeinado @F...           1   \n",
      "\n",
      "      retweetCount  likeCount  ...  coordinates  inReplyToTweetId  \\\n",
      "0                0          0  ...         None               NaN   \n",
      "1               80        142  ...         None               NaN   \n",
      "2                0          0  ...         None      1.834197e+18   \n",
      "3                0          0  ...         None      1.834197e+18   \n",
      "4                0          0  ...         None               NaN   \n",
      "...            ...        ...  ...          ...               ...   \n",
      "5014             0          0  ...         None      1.832220e+18   \n",
      "5015             0          0  ...         None      1.832082e+18   \n",
      "5016             0          0  ...         None               NaN   \n",
      "5017             0          1  ...         None      1.832428e+18   \n",
      "5018             1         20  ...         None      1.832431e+18   \n",
      "\n",
      "      inReplyToTweetIdStr                                      inReplyToUser  \\\n",
      "0                    None                                               None   \n",
      "1                    None                                               None   \n",
      "2     1834197215415599186  {'id': 77653794, 'id_str': '77653794', 'userna...   \n",
      "3     1834197215415599186  {'id': 77653794, 'id_str': '77653794', 'userna...   \n",
      "4                    None                                               None   \n",
      "...                   ...                                                ...   \n",
      "5014  1832219768331362527  {'id': 196005322, 'id_str': '196005322', 'user...   \n",
      "5015  1832082118718939516  {'id': 205009534, 'id_str': '205009534', 'user...   \n",
      "5016                 None                                               None   \n",
      "5017  1832428364147097629  {'id': 821313911634984960, 'id_str': '82131391...   \n",
      "5018  1832430580631277725  {'id': 1245558419588894720, 'id_str': '1245558...   \n",
      "\n",
      "                                                 source  \\\n",
      "0     <a href=\"http://twitter.com/download/android\" ...   \n",
      "1     <a href=\"https://mobile.twitter.com\" rel=\"nofo...   \n",
      "2     <a href=\"https://mobile.twitter.com\" rel=\"nofo...   \n",
      "3     <a href=\"http://twitter.com/download/android\" ...   \n",
      "4     <a href=\"http://twitter.com/download/android\" ...   \n",
      "...                                                 ...   \n",
      "5014  <a href=\"http://twitter.com/download/iphone\" r...   \n",
      "5015  <a href=\"http://twitter.com/download/android\" ...   \n",
      "5016  <a href=\"http://twitter.com/download/android\" ...   \n",
      "5017  <a href=\"http://twitter.com/download/android\" ...   \n",
      "5018  <a href=\"http://twitter.com/download/iphone\" r...   \n",
      "\n",
      "                                sourceUrl          sourceLabel  \\\n",
      "0     http://twitter.com/download/android  Twitter for Android   \n",
      "1              https://mobile.twitter.com      Twitter Web App   \n",
      "2              https://mobile.twitter.com      Twitter Web App   \n",
      "3     http://twitter.com/download/android  Twitter for Android   \n",
      "4     http://twitter.com/download/android  Twitter for Android   \n",
      "...                                   ...                  ...   \n",
      "5014   http://twitter.com/download/iphone   Twitter for iPhone   \n",
      "5015  http://twitter.com/download/android  Twitter for Android   \n",
      "5016  http://twitter.com/download/android  Twitter for Android   \n",
      "5017  http://twitter.com/download/android  Twitter for Android   \n",
      "5018   http://twitter.com/download/iphone   Twitter for iPhone   \n",
      "\n",
      "                                                  media  card  \\\n",
      "0          {'photos': [], 'videos': [], 'animated': []}  None   \n",
      "1     {'photos': [], 'videos': [{'thumbnailUrl': 'ht...  None   \n",
      "2          {'photos': [], 'videos': [], 'animated': []}  None   \n",
      "3          {'photos': [], 'videos': [], 'animated': []}  None   \n",
      "4     {'photos': [{'url': 'https://pbs.twimg.com/med...  None   \n",
      "...                                                 ...   ...   \n",
      "5014       {'photos': [], 'videos': [], 'animated': []}  None   \n",
      "5015       {'photos': [], 'videos': [], 'animated': []}  None   \n",
      "5016  {'photos': [{'url': 'https://pbs.twimg.com/med...  None   \n",
      "5017  {'photos': [{'url': 'https://pbs.twimg.com/med...  None   \n",
      "5018       {'photos': [], 'videos': [], 'animated': []}  None   \n",
      "\n",
      "                               _type  \n",
      "0     snscrape.modules.twitter.Tweet  \n",
      "1     snscrape.modules.twitter.Tweet  \n",
      "2     snscrape.modules.twitter.Tweet  \n",
      "3     snscrape.modules.twitter.Tweet  \n",
      "4     snscrape.modules.twitter.Tweet  \n",
      "...                              ...  \n",
      "5014  snscrape.modules.twitter.Tweet  \n",
      "5015  snscrape.modules.twitter.Tweet  \n",
      "5016  snscrape.modules.twitter.Tweet  \n",
      "5017  snscrape.modules.twitter.Tweet  \n",
      "5018  snscrape.modules.twitter.Tweet  \n",
      "\n",
      "[5019 rows x 32 columns]\n"
     ]
    }
   ],
   "source": [
    "import json\n",
    "import pandas as pd\n",
    "import numpy as np\n",
    "\n",
    "with open('tioberny.txt', 'r', encoding='utf-16') as file:\n",
    "    data = [json.loads(line) for line in file]\n",
    "\n",
    "df = pd.DataFrame(data)\n",
    "\n",
    "print(df)\n"
   ]
  },
  {
   "cell_type": "code",
   "execution_count": 15,
   "metadata": {},
   "outputs": [
    {
     "name": "stdout",
     "output_type": "stream",
     "text": [
      "id\n",
      "id_str\n",
      "url\n",
      "date\n",
      "user\n",
      "lang\n",
      "rawContent\n",
      "replyCount\n",
      "retweetCount\n",
      "likeCount\n",
      "quoteCount\n",
      "bookmarkedCount\n",
      "conversationId\n",
      "conversationIdStr\n",
      "hashtags\n",
      "cashtags\n",
      "mentionedUsers\n",
      "links\n",
      "viewCount\n",
      "retweetedTweet\n",
      "quotedTweet\n",
      "place\n",
      "coordinates\n",
      "inReplyToTweetId\n",
      "inReplyToTweetIdStr\n",
      "inReplyToUser\n",
      "source\n",
      "sourceUrl\n",
      "sourceLabel\n",
      "media\n",
      "card\n",
      "_type\n"
     ]
    }
   ],
   "source": [
    "for column in df.columns:\n",
    "    print(column)"
   ]
  },
  {
   "cell_type": "markdown",
   "metadata": {},
   "source": [
    "## Limpieza y Preprocesamiento de Datos"
   ]
  },
  {
   "cell_type": "code",
   "execution_count": null,
   "metadata": {},
   "outputs": [],
   "source": []
  },
  {
   "cell_type": "markdown",
   "metadata": {},
   "source": [
    "## Análisis Exploratorio"
   ]
  },
  {
   "cell_type": "code",
   "execution_count": null,
   "metadata": {},
   "outputs": [],
   "source": [
    "# Código aquí"
   ]
  },
  {
   "cell_type": "markdown",
   "metadata": {},
   "source": [
    "## Análisis de la Topología de la Red"
   ]
  },
  {
   "cell_type": "code",
   "execution_count": null,
   "metadata": {},
   "outputs": [],
   "source": [
    "# Código aquí"
   ]
  },
  {
   "cell_type": "markdown",
   "metadata": {},
   "source": [
    "## Identificación y Análisis de Comunidades"
   ]
  },
  {
   "cell_type": "code",
   "execution_count": null,
   "metadata": {},
   "outputs": [],
   "source": [
    "# Código aquí"
   ]
  },
  {
   "cell_type": "markdown",
   "metadata": {},
   "source": [
    "## Análisis de Influencers y Nodos Clave"
   ]
  },
  {
   "cell_type": "code",
   "execution_count": null,
   "metadata": {},
   "outputs": [],
   "source": [
    "# Código aquí"
   ]
  },
  {
   "cell_type": "markdown",
   "metadata": {},
   "source": [
    "## Detección y Análisis de Grupos Aislados"
   ]
  },
  {
   "cell_type": "code",
   "execution_count": null,
   "metadata": {},
   "outputs": [],
   "source": [
    "# Código aquí"
   ]
  },
  {
   "cell_type": "markdown",
   "metadata": {},
   "source": [
    "## Análisis de Sentimientos y Contenido"
   ]
  },
  {
   "cell_type": "code",
   "execution_count": null,
   "metadata": {},
   "outputs": [],
   "source": [
    "# Código aquí"
   ]
  },
  {
   "cell_type": "markdown",
   "metadata": {},
   "source": [
    "## Interpretación y Contexto"
   ]
  },
  {
   "cell_type": "code",
   "execution_count": null,
   "metadata": {},
   "outputs": [],
   "source": [
    "# Código aquí"
   ]
  }
 ],
 "metadata": {
  "kernelspec": {
   "display_name": "Python 3",
   "language": "python",
   "name": "python3"
  },
  "language_info": {
   "codemirror_mode": {
    "name": "ipython",
    "version": 3
   },
   "file_extension": ".py",
   "mimetype": "text/x-python",
   "name": "python",
   "nbconvert_exporter": "python",
   "pygments_lexer": "ipython3",
   "version": "3.11.9"
  }
 },
 "nbformat": 4,
 "nbformat_minor": 2
}
